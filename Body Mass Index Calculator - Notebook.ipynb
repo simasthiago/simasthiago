{
 "cells": [
  {
   "cell_type": "markdown",
   "metadata": {
    "collapsed": true
   },
   "source": [
    "# My Jupyter Notebook on IBM Watson Studio"
   ]
  },
  {
   "cell_type": "markdown",
   "metadata": {},
   "source": [
    "### Thiago Simas on the Data Science Journey"
   ]
  },
  {
   "cell_type": "markdown",
   "metadata": {},
   "source": [
    "#### _I am interested in Data Science because I think we can discover an unlimited kind of new things through information and Data Science is basically the act of transforming something raw into a pure master piece such the one ring ._"
   ]
  },
  {
   "cell_type": "markdown",
   "metadata": {},
   "source": [
    "### **Whats your BMI?**"
   ]
  },
  {
   "cell_type": "code",
   "execution_count": 18,
   "metadata": {},
   "outputs": [
    {
     "name": "stdout",
     "output_type": "stream",
     "text": [
      "What is your weight? 85\n",
      "What is your height? 185\n",
      "Enter your preferred unit system (metric or imperial): metric\n",
      "Your weight is 85.0 kg and your height is 185.0 cm. Your BMI is within the healthy range.\n"
     ]
    }
   ],
   "source": [
    "def calculate_bmi(weight, height, u):\n",
    "    \"\"\"\n",
    "    This function takes in the user's weight, height and preferred unit system (metric or imperial) and returns the BMI.\n",
    "    \"\"\"\n",
    "    if u == 'metric':\n",
    "        bmi = weight / ((height/100) ** 2)\n",
    "        unit = 'kg/m²'\n",
    "    elif u == 'imperial':\n",
    "        bmi = (weight / (height ** 2)) * 703\n",
    "        unit = 'lb/in²'\n",
    "    else:\n",
    "        raise ValueError('Invalid unit system. Please choose \"metric\" or \"imperial\".')\n",
    "    return bmi, unit\n",
    "\n",
    "# Ask the user for their weight, height and preferred unit system\n",
    "##n = input(\"Tell me your name:\")\n",
    "weight = float(input(\"What is your weight? \"))\n",
    "height = float(input(\"What is your height? \"))\n",
    "u = input(\"Enter your preferred unit system (metric or imperial): \")\n",
    "\n",
    "# Check if the user has entered a valid unit system\n",
    "if u not in ['metric', 'imperial']:\n",
    "    print('Invalid unit system. Please choose \"metric\" or \"imperial\".')\n",
    "else:\n",
    "    # Calculate the BMI and display the result\n",
    "    bmi, unit = calculate_bmi(weight, height, u)\n",
    "    if bmi >= 18 and bmi <= 25:\n",
    "        if u == 'metric':\n",
    "            print(f\"Your weight is {weight} kg and your height is {height} cm. Your BMI is within the healthy range.\")\n",
    "        else:\n",
    "            weight_lb = weight / 0.45359237\n",
    "            height_in = height / 2.54\n",
    "            print(f\"Your weight is {weight_lb:.2f} lb and your height is {height_in:.2f} in. Your BMI is within the healthy range.\")\n",
    "    else:\n",
    "        print(\"Your BMI is outside the healthy range.\")"
   ]
  },
  {
   "cell_type": "markdown",
   "metadata": {},
   "source": [
    "### Body Mass index is a simple calculation using a person's height and weight, The formula is BMI = kg/m2 where kg is a person’s weight in kilograms and m2 is their height in metres squared.\n",
    "### A BMI of 25.0 or more is not within the healthy range,which is between 18.5 to 24.9. BMI applies to most adults 18-65 years. \n",
    "### It is important to share that BMI does not measure body fat ,and it is not used for muscle builders or athletes,pregnant women and the elderly.\n",
    "### Those with a higher muscle mass may have a high BMI but not be at health risk\n",
    "\n",
    "For more information follow <a href=\"https://www.cdc.gov/healthyweight/assessing/bmi/adult_bmi/index.html#:~:text=Body%20mass%20index%20(BMI)%20is,weight%2C%20overweight%2C%20and%20obesity\" target=\"_blank\">this link</a>.\n",
    "    \n",
    "\n"
   ]
  },
  {
   "cell_type": "code",
   "execution_count": null,
   "metadata": {},
   "outputs": [],
   "source": []
  }
 ],
 "metadata": {
  "kernelspec": {
   "display_name": "Python 3.10",
   "language": "python",
   "name": "python3"
  },
  "language_info": {
   "codemirror_mode": {
    "name": "ipython",
    "version": 3
   },
   "file_extension": ".py",
   "mimetype": "text/x-python",
   "name": "python",
   "nbconvert_exporter": "python",
   "pygments_lexer": "ipython3",
   "version": "3.10.9"
  }
 },
 "nbformat": 4,
 "nbformat_minor": 1
}
