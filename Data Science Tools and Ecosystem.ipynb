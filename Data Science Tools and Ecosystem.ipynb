{
 "cells": [
  {
   "cell_type": "markdown",
   "metadata": {
    "collapsed": true
   },
   "source": [
    "<h1> Data Science Tools and Ecosystem <h1>"
   ]
  },
  {
   "cell_type": "markdown",
   "metadata": {},
   "source": [
    "<h2>In this notebook, Data Science Tools and Ecosystem are summarized<h4>\n",
    "                                                                        "
   ]
  },
  {
   "cell_type": "markdown",
   "metadata": {},
   "source": [
    "<h2>Objectives:</h2>\n",
    "\n",
    "<ul>\n",
    "    <li> Learn Popular Languages </li>\n",
    "    <li> Learn Commonly Libraries </li>\n",
    "    <li> Arithmetic Expressions </li>\n",
    "    <li> Python Function Conversion </li>\n",
    "    <li> HTML Function Alignment </li>"
   ]
  },
  {
   "cell_type": "markdown",
   "metadata": {},
   "source": [
    "### Some of the popular languages that Data Scientists use are:\n",
    "\n",
    "    1. SQL\n",
    "    2. Python\n",
    "    3. JavaScript\n",
    "    4. R\n",
    "    5. C/C++\n",
    "    \n",
    "    "
   ]
  },
  {
   "cell_type": "markdown",
   "metadata": {},
   "source": [
    "### Some of the commonly used libraries used by Data Scientists include:\n",
    "\n",
    "    1. Plotty\n",
    "    2. Matpotlib\n",
    "    3. Pandas\n",
    "    4. Numpy\n",
    "    5. Scikit-Learn\n",
    "    6. Pytorch\n",
    "    7. Pipenv\n",
    "    8. PyBrain\n",
    "    9. TensorFlow\n"
   ]
  },
  {
   "cell_type": "markdown",
   "metadata": {},
   "source": [
    "\n",
    "<table>\n",
    "<tr>\n",
    "<th>Tools for Data Science</th>\n",
    "<tr>\n",
    "<h4 style='text-align:left;'>Data Science Tools</h4>\n",
    "</tr>\n",
    "<tr>\n",
    "<td style='text-align:left;'>Python</td>\n",
    "</tr>\n",
    "<tr>\n",
    "<td style='text-align:left;'>TensorFlor</td>\n",
    "</tr>\n",
    "<tr>\n",
    "<td style='text-align:left;'>R</td>\n",
    "</tr>\n",
    "</table>\n",
    "\n"
   ]
  },
  {
   "cell_type": "code",
   "execution_count": 45,
   "metadata": {},
   "outputs": [
    {
     "data": {
      "text/html": [
       "<style>\n",
       "table {float:left}\n",
       "</style>\n"
      ],
      "text/plain": [
       "<IPython.core.display.HTML object>"
      ]
     },
     "metadata": {},
     "output_type": "display_data"
    }
   ],
   "source": [
    "%%html\n",
    "<style>\n",
    "table {float:left}\n",
    "</style>"
   ]
  },
  {
   "cell_type": "markdown",
   "metadata": {},
   "source": [
    "<h3> Below are a few exampeles of evaluating arithmetic expressions in Python <h3>"
   ]
  },
  {
   "cell_type": "code",
   "execution_count": 46,
   "metadata": {},
   "outputs": [
    {
     "name": "stdout",
     "output_type": "stream",
     "text": [
      "100000000000000000000 3\n"
     ]
    }
   ],
   "source": [
    "a = 10\n",
    "b = 20\n",
    "c = a ** b\n",
    "\n",
    "x = 3\n",
    "y = 9\n",
    "z = y // x\n",
    "\n",
    "print(c,z)\n",
    "\n",
    "## when **  means Exponentiation when a raised to the power of b"
   ]
  },
  {
   "cell_type": "code",
   "execution_count": 47,
   "metadata": {},
   "outputs": [
    {
     "data": {
      "text/plain": [
       "17"
      ]
     },
     "execution_count": 47,
     "metadata": {},
     "output_type": "execute_result"
    }
   ],
   "source": [
    "(3*4)+5\n",
    "\n",
    "## This is a simple arithmetic expression to multiply then add integers"
   ]
  },
  {
   "cell_type": "code",
   "execution_count": 48,
   "metadata": {},
   "outputs": [
    {
     "name": "stdout",
     "output_type": "stream",
     "text": [
      "Tell me how many minutes you want to convert into hours:200\n",
      "200 is equal to 3.33 hours\n"
     ]
    }
   ],
   "source": [
    "def converting_minutes_to_hours(minutes):\n",
    "    hours = minutes / 60\n",
    "    return hours\n",
    "minutes = int(input(\"Tell me how many minutes you want to convert into hours:\"))\n",
    "print(f\"{minutes} is equal to {hours:.2f} hours\")"
   ]
  },
  {
   "attachments": {},
   "cell_type": "markdown",
   "metadata": {},
   "source": [
    "<h1> Author <h1>\n",
    "<h2> Thiago Simas <h2>\n"
   ]
  },
  {
   "cell_type": "markdown",
   "metadata": {},
   "source": []
  }
 ],
 "metadata": {
  "kernelspec": {
   "display_name": "Python 3.10",
   "language": "python",
   "name": "python3"
  },
  "language_info": {
   "codemirror_mode": {
    "name": "ipython",
    "version": 3
   },
   "file_extension": ".py",
   "mimetype": "text/x-python",
   "name": "python",
   "nbconvert_exporter": "python",
   "pygments_lexer": "ipython3",
   "version": "3.10.9"
  }
 },
 "nbformat": 4,
 "nbformat_minor": 1
}
